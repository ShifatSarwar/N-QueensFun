{
  "nbformat": 4,
  "nbformat_minor": 0,
  "metadata": {
    "colab": {
      "name": "Genetic_Algorithm_16301084_Shifat_Sarwar .ipynb",
      "provenance": [],
      "collapsed_sections": [],
      "include_colab_link": true
    },
    "kernelspec": {
      "name": "python3",
      "display_name": "Python 3"
    }
  },
  "cells": [
    {
      "cell_type": "markdown",
      "metadata": {
        "id": "view-in-github",
        "colab_type": "text"
      },
      "source": [
        "<a href=\"https://colab.research.google.com/github/ShifatSarwar/N-QueensFun/blob/main/Genetic_Algorithm_16301084_Shifat_Sarwar_.ipynb\" target=\"_parent\"><img src=\"https://colab.research.google.com/assets/colab-badge.svg\" alt=\"Open In Colab\"/></a>"
      ]
    },
    {
      "cell_type": "code",
      "metadata": {
        "id": "wRBmN0CMaEwF",
        "colab": {
          "base_uri": "https://localhost:8080/",
          "height": 316
        },
        "outputId": "c64241b8-0545-4226-c91f-dd6f7a688353"
      },
      "source": [
        "import numpy as np\n",
        "import random as r\n",
        "import matplotlib.pyplot as plt\n",
        "\n",
        "board_size=int(input(\"How many Queens have problems with each other? \"))\n",
        "population=[]\n",
        "fitnesslist=[]\n",
        "totalbest=(board_size*(board_size-1))/2\n",
        "\n",
        "def generate_population_state(b_size):\n",
        "  popcolumn=[]\n",
        "  for index in range(b_size):\n",
        "    popcolumn.append(r.randint(0,b_size-1))\n",
        "  return popcolumn\n",
        "\n",
        "def calculate_fitness(col_array):\n",
        "  horizontal_collisions=abs(len(col_array) - len(np.unique(col_array)))\n",
        "  diagonal_collisions = 0\n",
        "  for i in range(len(col_array)):\n",
        "    for j in range(len(col_array)):\n",
        "      if i != j: \n",
        "        mod=abs(i-j)\n",
        "        mod2=abs(col_array[i]-col_array[j])\n",
        "        if mod==mod2:\n",
        "          diagonal_collisions+=1\n",
        "  fitness = ((len(col_array)*(len(col_array)-1))/2) -(horizontal_collisions+diagonal_collisions)\n",
        "  return fitness\n",
        "\n",
        "def mutate(c):\n",
        "  change_index=-1\n",
        "  value=0\n",
        "  for v in range(len(c)):\n",
        "    if v not in c:\n",
        "      value=v\n",
        "  \n",
        "  for item in c:\n",
        "    if c.count(item)>1:\n",
        "      change_index=c.index(item)\n",
        "\n",
        "  if(change_index>=0):\n",
        "    c[change_index]=value\n",
        "  return c\n",
        "\n",
        "\n",
        "for psize in range(100):\n",
        "  population.append(generate_population_state(board_size))\n",
        "\n",
        "for col in population:\n",
        "  fitnesslist.append(calculate_fitness(col))\n",
        "\n",
        "def updatepopulation(npop):\n",
        "  for val in fitnesslist:\n",
        "    if val<totalbest-(0.5*totalbest):\n",
        "      population.pop(fitnesslist.index(val))\n",
        "      fitnesslist.pop(fitnesslist.index(val))\n",
        "      \n",
        "  for val in npop:\n",
        "    population.append(val)\n",
        "    fitnesslist.append(calculate_fitness(val))\n",
        "\n",
        "iteration=0\n",
        " \n",
        "while(max(fitnesslist)<=totalbest-1):\n",
        "\n",
        "  father_index=r.randint(0,len(population)-1)\n",
        "  father=population[father_index]\n",
        "  mother_index=r.randint(0,len(population)-1)\n",
        "  mother=population[mother_index]\n",
        "  crosspoint=r.randint(1,board_size-2)\n",
        "  child_one=[]\n",
        "  child_two=[]\n",
        "  newpopulation=[]\n",
        "\n",
        "  for val in range(len(father)):\n",
        "    if(val<crosspoint):\n",
        "      child_one.append(father[val])\n",
        "      child_two.append(mother[val])\n",
        "    else:\n",
        "      child_one.append(mother[val])\n",
        "      child_two.append(father[val])\n",
        "  \n",
        "  temp=[]\n",
        "\n",
        "  if(calculate_fitness(child_one)>totalbest-10):\n",
        "    newpopulation.append(child_one)\n",
        "    temp=mutate(child_one)\n",
        "    if(temp!=child_one):\n",
        "      newpopulation.append(temp)\n",
        "\n",
        "  \n",
        "  if(calculate_fitness(child_two)>totalbest-10):\n",
        "    newpopulation.append(child_two)\n",
        "    temp=mutate(child_two)\n",
        "    if(temp!=child_two):\n",
        "      newpopulation.append(temp)\n",
        "  iteration+=1\n",
        "  updatepopulation(newpopulation)\n",
        "  \n",
        "print(\"The Queens has been successfully placed to avoid conficts\")\n",
        "print(\"This map of rows and column is shown below: \")\n",
        "\n",
        "y=population[fitnesslist.index(max(fitnesslist))]\n",
        "x=[]\n",
        "#print(iteration)\n",
        "for num in range(board_size):\n",
        "  x.append(num)\n",
        "\n",
        "plt.scatter(x,y)\n",
        "plt.grid()\n",
        "plt.show()"
      ],
      "execution_count": 1,
      "outputs": [
        {
          "output_type": "stream",
          "name": "stdout",
          "text": [
            "How many Queens have problems with each other? 8\n",
            "The Queens has been successfully placed to avoid conficts\n",
            "This map of rows and column is shown below: \n"
          ]
        },
        {
          "output_type": "display_data",
          "data": {
            "image/png": "[encoded data removed]",
            "text/plain": [
              "<Figure size 432x288 with 1 Axes>"
            ]
          },
          "metadata": {
            "needs_background": "light"
          }
        }
      ]
    },
    {
      "cell_type": "code",
      "metadata": {
        "id": "q4-fS7DtoyK-"
      },
      "source": [
        ""
      ],
      "execution_count": null,
      "outputs": []
    }
  ]
}